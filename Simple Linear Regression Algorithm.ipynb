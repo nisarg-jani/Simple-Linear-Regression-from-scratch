{
 "cells": [
  {
   "cell_type": "code",
   "execution_count": 91,
   "id": "0c6570e1-4bbe-4ef5-a082-f8d4df829eed",
   "metadata": {},
   "outputs": [],
   "source": [
    "class LRManual:\n",
    "    def __init__(self):\n",
    "        self.m = None\n",
    "        self.b = None\n",
    "    def fit(self,X_train,y_train):\n",
    "\n",
    "        num = 0\n",
    "        den = 0\n",
    "        \n",
    "        for i in range(X_train.shape[0]):\n",
    "            num = num + ((X_train[i] - X_train.mean())*(y_train[i]-y_train.mean()))\n",
    "            den = den + ((X_train[i] - X_train.mean())*(X_train[i] - X_train.mean()))\n",
    "        self.m = num/den\n",
    "        self.b = y_train.mean() - (self.m * X_train.mean())\n",
    "        print(f'value of m(slope):{self.m}')\n",
    "        print(f'value of b(intercept):{self.b}')\n",
    "    def predict(self,X_test):\n",
    "        return self.m*X_test + self.b"
   ]
  },
  {
   "cell_type": "code",
   "execution_count": 59,
   "id": "9640b4ec-9ced-46e9-9937-3e6de6508710",
   "metadata": {},
   "outputs": [],
   "source": [
    "import numpy as np\n",
    "import pandas as pd"
   ]
  },
  {
   "cell_type": "markdown",
   "id": "961dbb46-04bf-440c-af1d-f8f44d51883a",
   "metadata": {},
   "source": [
    "## ---> Add dataset in dataframe\n",
    "### df = pd.read_csv('yourdataset.csv')"
   ]
  },
  {
   "cell_type": "code",
   "execution_count": null,
   "id": "5ca12aa2-a823-4133-aa63-1359195c8837",
   "metadata": {},
   "outputs": [],
   "source": []
  },
  {
   "cell_type": "markdown",
   "id": "164f108e-71f4-4e83-8b7c-2157715fa847",
   "metadata": {},
   "source": [
    "## ---> Separate in X & y\n",
    "### X = df.iloc[:,0].values\n",
    "### y = df.iloc[:,1].values"
   ]
  },
  {
   "cell_type": "code",
   "execution_count": null,
   "id": "92dff6a6-60d1-4baa-82be-9377ab3c791b",
   "metadata": {},
   "outputs": [],
   "source": []
  },
  {
   "cell_type": "markdown",
   "id": "def920f8-5b41-4211-8ab1-e30c4c83cb43",
   "metadata": {},
   "source": [
    "## ---> Use SkLearn to train test split\n",
    "### from sklearn.model_selection import train_test_split\n",
    "### X_train, X_test, y_train, y_test = train_test_split(X,y,test_size=0.2,random_state=2)"
   ]
  },
  {
   "cell_type": "markdown",
   "id": "3d404463-fe3d-4738-81c3-cbf1a9b7afca",
   "metadata": {},
   "source": [
    "## ---> Creat an Object to load our algo\n",
    "## lr = LRManual()"
   ]
  },
  {
   "cell_type": "markdown",
   "id": "1798133c-211b-4f39-9536-7ad2e4198d39",
   "metadata": {},
   "source": [
    "## ---> Fit Data to get value of m(slope) & b(intercept)\n",
    "### lr.fit(X_train,y_train)"
   ]
  },
  {
   "cell_type": "markdown",
   "id": "67ed4600-46e6-406f-bcf8-8353ffecd0aa",
   "metadata": {},
   "source": [
    "## ---> Prediction\n",
    "### lr.predict(X_test)"
   ]
  },
  {
   "cell_type": "code",
   "execution_count": null,
   "id": "4057fe78-9a77-4c79-9aa9-fc1b57a17d99",
   "metadata": {},
   "outputs": [],
   "source": []
  }
 ],
 "metadata": {
  "kernelspec": {
   "display_name": "Python [conda env:base] *",
   "language": "python",
   "name": "conda-base-py"
  },
  "language_info": {
   "codemirror_mode": {
    "name": "ipython",
    "version": 3
   },
   "file_extension": ".py",
   "mimetype": "text/x-python",
   "name": "python",
   "nbconvert_exporter": "python",
   "pygments_lexer": "ipython3",
   "version": "3.12.7"
  }
 },
 "nbformat": 4,
 "nbformat_minor": 5
}
